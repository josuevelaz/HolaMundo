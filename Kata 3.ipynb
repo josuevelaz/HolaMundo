{
 "cells": [
  {
   "cell_type": "code",
   "execution_count": null,
   "metadata": {},
   "outputs": [],
   "source": []
  },
  {
   "cell_type": "markdown",
   "metadata": {},
   "source": [
    "# Escribir declaraciones if, else, y elif\n",
    "Para este ejercicio, escribirás una lógica condicional que imprima una advertencia si un asteroide se acerca a la Tierra demasiado rápido. La velocidad del asteroide varía dependiendo de lo cerca que esté del sol, y cualquier velocidad superior a 25 kilómetros por segundo (km/s) merece una advertencia.\n",
    "\n",
    "Un asteroide se acerca, y viaja a una velocidad de 49 km/s."
   ]
  },
  {
   "cell_type": "code",
   "execution_count": 1,
   "metadata": {},
   "outputs": [
    {
     "name": "stdout",
     "output_type": "stream",
     "text": [
      "¡Peligro! se acerca a Un asteroide\n"
     ]
    }
   ],
   "source": [
    "ast = 49\n",
    "if ast > 25:\n",
    "    print('¡Peligro! se acerca a Un asteroide')\n",
    "else:\n",
    "    print('¡No hay peligro!')"
   ]
  },
  {
   "cell_type": "markdown",
   "metadata": {},
   "source": [
    "Si un asteroide entra en la atmósfera de la Tierra a una velocidad mayor o igual a 20 km/s, a veces produce un rayo de luz que se puede ver desde la Tierra. Escribe la lógica condicional que usa declaraciones if, else, y elif para alertar a las personas de todo el mundo que deben buscar un asteroide en el cielo. ¡Hay uno que se dirige a la tierra ahora a una velocidad de 19 km/s!"
   ]
  },
  {
   "cell_type": "code",
   "execution_count": 4,
   "metadata": {},
   "outputs": [
    {
     "name": "stdout",
     "output_type": "stream",
     "text": [
      "Está pasando un asteroide pero no puedes ver nada\n"
     ]
    }
   ],
   "source": [
    "ast = 19\n",
    "if ast > 20:\n",
    "    print('Mira al cielo, Hay una rayo luz que puedes ver emitido por un asteroide')\n",
    "elif ast == 20:\n",
    "    print('Mira al cielo, Hay una rayo luz que puedes ver emitido por un asteroide')\n",
    "else:\n",
    "    print('Está pasando un asteroide pero no puedes ver nada')"
   ]
  },
  {
   "cell_type": "markdown",
   "metadata": {},
   "source": [
    "# Uso de operadores and y or\n",
    "Usando toda esta información, escribe un programa que emita la advertencia o información correcta a la gente de la Tierra, según la velocidad y el tamaño de un asteroide. Utiliza instrucciones if, else, y elif, así como los operadores and y or."
   ]
  },
  {
   "cell_type": "code",
   "execution_count": 5,
   "metadata": {},
   "outputs": [
    {
     "name": "stdout",
     "output_type": "stream",
     "text": [
      "Busca un refugio porque el  asteroide parece peligroso\n"
     ]
    }
   ],
   "source": [
    "velast = 26\n",
    "tamast = 4000\n",
    "if velast > 25 and tamast > 25:\n",
    "    if tamast>=1000:\n",
    "        print('Busca un refugio porque el  asteroide parece peligroso')\n",
    "    else:\n",
    "        print('¡Alerta, Un asteroide muy peligroso viene hacia la Tierra!')\n",
    "elif velast >= 20:\n",
    "    print('Mira al cielo, Hay una rayo luz que puedes ver emitido por un asteroide')\n",
    "elif tamast < 25:\n",
    "    print('Está pasando un asteroide pero no puedes ver nada :)')\n",
    "else:\n",
    "    print('Está pasando un asteroide pero no puedes ver nada :)')"
   ]
  }
 ],
 "metadata": {
  "interpreter": {
   "hash": "e9dbb054c758d881997819e0be3edd2c718c6b8e49c9ffd992645a9db906cc92"
  },
  "kernelspec": {
   "display_name": "Python 3.10.2 64-bit",
   "language": "python",
   "name": "python3"
  },
  "language_info": {
   "codemirror_mode": {
    "name": "ipython",
    "version": 3
   },
   "file_extension": ".py",
   "mimetype": "text/x-python",
   "name": "python",
   "nbconvert_exporter": "python",
   "pygments_lexer": "ipython3",
   "version": "3.10.2"
  },
  "orig_nbformat": 4
 },
 "nbformat": 4,
 "nbformat_minor": 2
}
